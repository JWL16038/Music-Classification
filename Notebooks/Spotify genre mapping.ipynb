{
 "cells": [
  {
   "cell_type": "code",
   "execution_count": 4,
   "metadata": {},
   "outputs": [],
   "source": [
    "import spotipy\n",
    "import spotipy.util as util\n",
    "import numpy as np\n",
    "import pandas as pd\n",
    "import os\n",
    "import csv\n",
    "import warnings\n",
    "import re \n",
    "\n",
    "from sklearn.utils import shuffle\n",
    "from itertools import chain\n",
    "from collections import defaultdict"
   ]
  },
  {
   "cell_type": "code",
   "execution_count": 5,
   "metadata": {},
   "outputs": [],
   "source": [
    "absolute_path = \"f:\\\\AI Projects\\\\Music Classification\"\n",
    "relative_path = \"Data\\\\Spotify\"\n",
    "full_path = os.path.join(absolute_path, relative_path)"
   ]
  },
  {
   "attachments": {},
   "cell_type": "markdown",
   "metadata": {},
   "source": [
    "Get all required data"
   ]
  },
  {
   "cell_type": "code",
   "execution_count": 11,
   "metadata": {},
   "outputs": [],
   "source": [
    "top3tracks = pd.read_csv(os.path.join(full_path,\"top3tracks.csv\")) \n",
    "largest_playlist = pd.read_csv(os.path.join(full_path,\"largest_playlist_ever.csv\")) \n",
    "largest_playlist_artists = pd.read_csv(os.path.join(full_path,\"largest_playlist_ever_artists.csv\")) \n",
    "\n",
    "#Drop genres column to map the genres to new broad genres\n",
    "largest_playlist = largest_playlist.drop('genres', axis=1)\n",
    "largest_playlist_artists = largest_playlist_artists.drop('broad_genres', axis=1)\n",
    "top3tracks = top3tracks.drop('genres', axis=1)"
   ]
  },
  {
   "cell_type": "code",
   "execution_count": 54,
   "metadata": {},
   "outputs": [],
   "source": [
    "genre_map = {\n",
    "    r'.*gregorian.*|.*medieval.*|.*madrigal.*|.*renaissance.*': \"early\",\n",
    "    r'.*classical.*': \"classical\",\n",
    "    r'.*country.*': \"country\",\n",
    "    r'.*dance.*|.*edm.*|.*disco.*|.*house.*': \"dance\",\n",
    "    r'.*electronic.*|.*wave.*|.*big beat.*': \"electronic\",\n",
    "    r'.*folk.*|.*indiecoustica.*': \"folk\",\n",
    "    r'.*hip hop.*|.*lo-fi.*|.*chillhop.*': \"hip hop\",\n",
    "    r'.*rap.*': \"rap\",\n",
    "    r'.*jazz.*|.*stride.*|.*jazz.*': \"jazz\",\n",
    "    r'.*metal.*': \"metal\",\n",
    "    r'.*rock.*|.*indiecoustica.*': \"rock\",\n",
    "    r'.*r&b.*': \"r&b\",\n",
    "    r'.*soul\".*': \"soul\",\n",
    "    r'.*soundtrack.*': \"soundtrack\",\n",
    "    r'.*reggae.*': \"reggae\",\n",
    "    r'.*pop.*': \"pop\",\n",
    "    r'.*world.*': \"world\",\n",
    "}"
   ]
  },
  {
   "cell_type": "code",
   "execution_count": 1,
   "metadata": {},
   "outputs": [
    {
     "name": "stderr",
     "output_type": "stream",
     "text": [
      "UsageError: unrecognized arguments: showing the full output\n"
     ]
    }
   ],
   "source": [
    "#Avoid showing the full output\n",
    "%%capture \n",
    "for i in range(0,len(largest_playlist_artists)):\n",
    "    artist = largest_playlist_artists.iloc[i,0]\n",
    "    genre = largest_playlist_artists.iloc[i,2]\n",
    "    broad_genres = []\n",
    "    for pattern, broad_genre in genre_map.items():\n",
    "        if re.match(pattern, genre, re.IGNORECASE):\n",
    "            broad_genres.append(broad_genre)\n",
    "    print(artist,genre, broad_genres)"
   ]
  }
 ],
 "metadata": {
  "kernelspec": {
   "display_name": "tf",
   "language": "python",
   "name": "python3"
  },
  "language_info": {
   "codemirror_mode": {
    "name": "ipython",
    "version": 3
   },
   "file_extension": ".py",
   "mimetype": "text/x-python",
   "name": "python",
   "nbconvert_exporter": "python",
   "pygments_lexer": "ipython3",
   "version": "3.10.6"
  },
  "orig_nbformat": 4
 },
 "nbformat": 4,
 "nbformat_minor": 2
}
