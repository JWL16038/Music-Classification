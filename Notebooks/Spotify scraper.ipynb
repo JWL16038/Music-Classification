{
 "cells": [
  {
   "cell_type": "code",
   "execution_count": 4,
   "metadata": {},
   "outputs": [],
   "source": [
    "import spotipy\n",
    "import spotipy.util as util\n",
    "import numpy as np\n",
    "import pandas as pd"
   ]
  },
  {
   "cell_type": "code",
   "execution_count": 5,
   "metadata": {},
   "outputs": [],
   "source": [
    "absolute_path = \"f:\\\\AI Projects\\\\Music Classification\"\n",
    "relative_path = \"Data\\\\Spotify\"\n",
    "full_path = os.path.join(absolute_path, relative_path)"
   ]
  },
  {
   "cell_type": "code",
   "execution_count": 6,
   "metadata": {},
   "outputs": [],
   "source": [
    "CLIENT_ID = \"372d9bfe8dce48a1aac1806d4329629d\"\n",
    "CLIENT_SECRET = \"1a6e5a340428469dba631f9ffbd4528f\""
   ]
  },
  {
   "cell_type": "code",
   "execution_count": 7,
   "metadata": {},
   "outputs": [],
   "source": [
    "auth_manager = spotipy.oauth2.SpotifyClientCredentials(client_id=CLIENT_ID,client_secret=CLIENT_SECRET)\n",
    "sp = spotipy.Spotify(auth_manager=auth_manager)"
   ]
  },
  {
   "cell_type": "code",
   "execution_count": 8,
   "metadata": {},
   "outputs": [],
   "source": [
    "def get_playlist_tracks(playlist_id):\n",
    "    playlist_data = sp.playlist_tracks(playlist_id)\n",
    "    tracks = playlist_data['items']\n",
    "    while playlist_data['next']:\n",
    "        playlist_data = sp.next(playlist_data)\n",
    "        tracks.extend(playlist_data['items'])\n",
    "        \n",
    "    return tracks"
   ]
  },
  {
   "attachments": {},
   "cell_type": "markdown",
   "metadata": {},
   "source": [
    "Get tracks from playlists"
   ]
  },
  {
   "cell_type": "code",
   "execution_count": 9,
   "metadata": {},
   "outputs": [],
   "source": [
    "playlists = [\"2MepDCzimtCz2ytAlLUdUi\",\"1h0CEZCm6IbFTbxThn6Xcs\",\"37i9dQZF1DX8qqIDAkKiQg\",\"7pWNG89bI9uwHQaUI3pINb\",\"37i9dQZF1DX12YIlzNkccL\",\"2hRc6PoqD046cyS8QTFKkQ\"] #[\"4rnleEAOdmFAbRcNCgZMpY\",\"37i9dQZF1DWWEJlAGA9gs0\",\"37i9dQZF1DXbITWG1ZJKYt\",\"37i9dQZF1DX1spT6G94GFC\",\"5oM9tyhspzK18TrPrlIZro\",\"37i9dQZF1DX55yuR78Invt\"]"
   ]
  },
  {
   "attachments": {},
   "cell_type": "markdown",
   "metadata": {},
   "source": [
    "Define all artists"
   ]
  },
  {
   "cell_type": "code",
   "execution_count": 23,
   "metadata": {},
   "outputs": [],
   "source": [
    "artists = [\n",
    "\"spotify:artist:36QJpDe2go2KgaRleHCDTp\",\n",
    "\"spotify:artist:6mdiAmATAx73kdxrNrnlao\",\n",
    "\"spotify:artist:2ye2Wgw4gimLv2eAKyk1NB\",\n",
    "\"spotify:artist:58lV9VcRSjABbAbfWS6skp\",\n",
    "\"spotify:artist:27T030eWyCQRmDyuvr1kxY\",\n",
    "\"spotify:artist:26bcq2nyj5GB7uRr558iQg\",\n",
    "\"spotify:artist:6olE6TJLqED3rqDCT0FyPh\",\n",
    "\"spotify:artist:0rvjqX7ttXeg3mTy8Xscbt\",\n",
    "\"spotify:artist:711MCceyCBcFnzjGY4Q7Un\",\n",
    "\"spotify:artist:3qm84nBOXUEQ2vnTfUTTFC\",\n",
    "\"spotify:artist:7Js6Lde8thlIHXggv2SCBz\",\n",
    "\"spotify:artist:6KImCVD70vtIoJWnq6nGn3\",\n",
    "\"spotify:artist:0Cp8WN4V8Tu4QJQwCN5Md4\",\n",
    "\"spotify:artist:6qqNVTkY8uBg9cP3Jd7DAH\",\n",
    "\"spotify:artist:06HL4z0CvFAxyc27GXpf02\",\n",
    "\"spotify:artist:4AK6F7OLvEQ5QYCBNiQWHq\",\n",
    "\"spotify:artist:4dpARuHxo51G3z768sgnrY\",\n",
    "\"spotify:artist:6eUKZXaKkcviH0Ku9w2n3V\",\n",
    "\"spotify:artist:08GQAI4eElDnROBrJRGE0X\",\n",
    "\"spotify:artist:2cnMpRsOVqtPMfq7YiFE6K\",\n",
    "\"spotify:artist:6ZLTlhejhndI4Rh53vYhrY\",\n",
    "\"spotify:artist:5M52tdBnJaKSvOpJGz8mfZ\",\n",
    "\"spotify:artist:3EhbVgyfGd7HkpsagwL9GS\",\n",
    "\"spotify:artist:0LcJLqbBmaGUft1e9Mm8HV\",\n",
    "\"spotify:artist:1LZEQNv7sE11VDY3SdxQeN\",\n",
    "\"spotify:artist:54R6Y0I7jGUCveDTtI21nb\",\n",
    "\"spotify:artist:1HY2Jd0NmPuamShAr6KMms\",\n",
    "\"spotify:artist:6jJ0s89eD6GaHleKKya26X\",\n",
    "\"spotify:artist:7hJcb9fa4alzcOq3EaNPoG\",\n",
    "\"spotify:artist:0du5cEVh5yTK9QJze8zA0C\",\n",
    "\"spotify:artist:1aSxMhuvixZ8h9dK9jIDwL\",\n",
    "\"spotify:artist:3PhoLpVuITZKcymswpck5b\",\n",
    "\"spotify:artist:6zFYqv1mOsgBRQbae3JJ9e\",\n",
    "\"spotify:artist:6M2wZ9GZgrQXHCFfjv46we\",\n",
    "\"spotify:artist:1Xyo4u8uXC1ZmMpatF05PJ\",\n",
    "\"spotify:artist:5pKCCKE2ajJHZ9KAiaK11H\",\n",
    "\"spotify:artist:7dGJo4pcD2V6oG8kP0tJRR\",\n",
    "\"spotify:artist:6vWDO969PvNqNYHIOW5v0m\",\n",
    "\"spotify:artist:6tbjWDEIzxoDsBA1FuhfPW\",\n",
    "\"spotify:artist:0PFtn5NtBbbUNbU9EAmIWF\",\n",
    "\"spotify:artist:1McMsnEElThX1knmY4oliG\",\n",
    "\"spotify:artist:4V8LLVI7PbaPR0K2TGSxFF\",\n",
    "\"spotify:artist:15UsOTVnJzReFVN1VCnxy4\",\n",
    "\"spotify:artist:6DPYiyq5kWVQS4RGwxzPC7\",\n",
    "\"spotify:artist:7B4hKK0S9QYnaoqa9OuwgX\",\n",
    "\"spotify:artist:4EnEZVjo3w1cwcQYePccay\",\n",
    "\"spotify:artist:4MCBfE4596Uoi2O4DtmEMz\",\n",
    "\"spotify:artist:1Bl6wpkWCQ4KVgnASpvzzA\",\n",
    "\"spotify:artist:3CQIn7N5CuRDP8wEI7FiDA\",\n",
    "\"spotify:artist:6XyY86QOPPrYVGvF9ch6wz\",\n",
    "\"spotify:artist:4gzpq5DPGxSnKTe4SA8HAU\",\n",
    "\"spotify:artist:2YZyLoL8N0Wb9xBt1NhZWg\",\n",
    "\"spotify:artist:0Y5tJX1MQlPlqiwlOH1tJY\",\n",
    "\"spotify:artist:5K4W6rqBFWDnAN6FQUkS6x\",\n",
    "\"spotify:artist:0hCNtLu0JehylgoiP8L4Gh\",\n",
    "\"spotify:artist:3TVXtAsR1Inumwj472S9r4\",\n",
    "\"4O15NlyKLIASxsJ0PrXPfz\",\n",
    "\"699OTQXzgjhIYAHMy9RyPD\",\n",
    "\"246dkjvS1zLTtiykXe5h60\",\n",
    "\"5f7VJjfbwm532GiveGC0ZK\",\n",
    "]"
   ]
  },
  {
   "attachments": {},
   "cell_type": "markdown",
   "metadata": {},
   "source": [
    "Get top tracks from artists"
   ]
  },
  {
   "cell_type": "code",
   "execution_count": 24,
   "metadata": {},
   "outputs": [],
   "source": [
    "from itertools import chain\n",
    "genre_count = {}\n",
    "broad_genres = ['rock','metal','pop','rap','contemporary','hip hop','r&b','classical','jazz','reggae','soul']\n",
    "\n",
    "\n",
    "def update_genre_count(genres):\n",
    "    mapped_genres = []\n",
    "    \n",
    "    for g in genres:\n",
    "        mapped_genres.append([g1 for g1 in broad_genres if g1 in g])\n",
    "\n",
    "    mapped_genres = list(chain.from_iterable(mapped_genres))\n",
    "    mapped_genres = mapped_genres = list(filter(None, mapped_genres))\n",
    "\n",
    "    if mapped_genres: \n",
    "        mapped_genres = np.unique(mapped_genres)\n",
    "        for g in mapped_genres:\n",
    "            if g in genre_count:\n",
    "                genre_count[g] = genre_count.get(g)  + 1\n",
    "            else:\n",
    "                genre_count[g] = 1\n",
    "        return mapped_genres\n",
    "    else:\n",
    "        print(\"No broad genres found\")\n",
    "        return None\n"
   ]
  },
  {
   "cell_type": "code",
   "execution_count": 26,
   "metadata": {},
   "outputs": [
    {
     "name": "stdout",
     "output_type": "stream",
     "text": [
      "Skipping: Still Loving You due to a duplicate\n",
      "Skipping: No One Like You due to a duplicate\n",
      "Skipping: Happier due to a duplicate\n",
      "Skipping: Rasputin due to a duplicate\n",
      "Skipping: Just the Way You Are due to a duplicate\n",
      "Skipping: Cold Heart - PNAU Remix due to a duplicate\n",
      "Skipping: Levitating due to a duplicate\n",
      "Skipping: Stan due to a duplicate\n",
      "Skipping: Appetite For Destruction due to a duplicate\n",
      "Skipping: SWEET due to a duplicate\n",
      "Skipping: I Wonder due to a duplicate\n",
      "Skipping: Pussy & Millions (feat. Travis Scott) due to a duplicate\n"
     ]
    }
   ],
   "source": [
    "import warnings\n",
    "warnings.filterwarnings('ignore')\n",
    "\n",
    "columns = [\"artist\",\"album_name\",\"track_name\",\"track_id\",\"released_date\",\"explicit\",\"genres\",\"danceability\",\"energy\",\"key\",\"loudness\",\"mode\",\"speechiness\",\"acousticness\",\"instrumentalness\",\"liveness\",\"valence\",\"tempo\",\"duration_ms\",\"time_signature\"]\n",
    "metadata_toptracks = pd.DataFrame(columns=columns)\n",
    "total_tracks = 0\n",
    "\n",
    "for artist_uri in artists:\n",
    "    artist = sp.artist(artist_uri)[\"name\"]\n",
    "    results = sp.artist_top_tracks(artist_uri) \n",
    "    genres = sp.artist(artist_uri)[\"genres\"]\n",
    "    genres = update_genre_count(genres)\n",
    "    for track in results[\"tracks\"][:10]:\n",
    "        album_name = track[\"album\"][\"name\"]\n",
    "        track_name = track[\"name\"]\n",
    "        if not (\n",
    "            metadata_toptracks['artist'].str.contains(artist, regex=False).any() & \n",
    "            metadata_toptracks['album_name'].str.contains(album_name, regex=False).any() & \n",
    "            metadata_toptracks['track_name'].str.contains(track_name, regex=False).any()):\n",
    "            # metadata_toptracks.duplicated(subset=['artist','album_name','track_name'], keep=False)\n",
    "            track_id = track[\"id\"]\n",
    "            released_date = track[\"album\"][\"release_date\"]\n",
    "            explicit = track[\"explicit\"]\n",
    "            new_row = {\"artist\" : artist, \"album_name\" : album_name, \"track_name\" : track_name, \"track_id\" : track_id,\"released_date\" : released_date, \"explicit\" : explicit, \"genres\" : genres}\n",
    "            audio_features = sp.audio_features(track_id)[0]\n",
    "            for feature in columns[7:]:\n",
    "                if audio_features is None:\n",
    "                    print(f\"Skipping: {track_name} due to no audio features\")\n",
    "                    break\n",
    "                new_row[feature] = audio_features[feature]\n",
    "            if audio_features is not None:\n",
    "                metadata_toptracks = metadata_toptracks.append(new_row, ignore_index=True)\n",
    "                total_tracks += 1\n",
    "        else:\n",
    "            print(f\"Skipping: {track_name} due to a duplicate\")\n",
    "print(f\"Total number of tracks processed: {total_tracks}\")"
   ]
  },
  {
   "cell_type": "code",
   "execution_count": 27,
   "metadata": {},
   "outputs": [
    {
     "data": {
      "text/plain": [
       "{'rock': 25,\n",
       " 'metal': 14,\n",
       " 'pop': 23,\n",
       " 'soul': 1,\n",
       " 'hip hop': 14,\n",
       " 'rap': 20,\n",
       " 'contemporary': 2,\n",
       " 'r&b': 2}"
      ]
     },
     "execution_count": 27,
     "metadata": {},
     "output_type": "execute_result"
    }
   ],
   "source": [
    "genre_count"
   ]
  },
  {
   "cell_type": "code",
   "execution_count": 28,
   "metadata": {},
   "outputs": [
    {
     "data": {
      "text/plain": [
       "(588, 20)"
      ]
     },
     "execution_count": 28,
     "metadata": {},
     "output_type": "execute_result"
    }
   ],
   "source": [
    "metadata_toptracks.shape"
   ]
  },
  {
   "cell_type": "code",
   "execution_count": 29,
   "metadata": {},
   "outputs": [
    {
     "data": {
      "text/html": [
       "<div>\n",
       "<style scoped>\n",
       "    .dataframe tbody tr th:only-of-type {\n",
       "        vertical-align: middle;\n",
       "    }\n",
       "\n",
       "    .dataframe tbody tr th {\n",
       "        vertical-align: top;\n",
       "    }\n",
       "\n",
       "    .dataframe thead th {\n",
       "        text-align: right;\n",
       "    }\n",
       "</style>\n",
       "<table border=\"1\" class=\"dataframe\">\n",
       "  <thead>\n",
       "    <tr style=\"text-align: right;\">\n",
       "      <th></th>\n",
       "      <th>artist</th>\n",
       "      <th>album_name</th>\n",
       "      <th>track_name</th>\n",
       "      <th>track_id</th>\n",
       "      <th>released_date</th>\n",
       "      <th>explicit</th>\n",
       "      <th>genres</th>\n",
       "      <th>danceability</th>\n",
       "      <th>energy</th>\n",
       "      <th>key</th>\n",
       "      <th>loudness</th>\n",
       "      <th>mode</th>\n",
       "      <th>speechiness</th>\n",
       "      <th>acousticness</th>\n",
       "      <th>instrumentalness</th>\n",
       "      <th>liveness</th>\n",
       "      <th>valence</th>\n",
       "      <th>tempo</th>\n",
       "      <th>duration_ms</th>\n",
       "      <th>time_signature</th>\n",
       "    </tr>\n",
       "  </thead>\n",
       "  <tbody>\n",
       "    <tr>\n",
       "      <th>0</th>\n",
       "      <td>Led Zeppelin</td>\n",
       "      <td>Led Zeppelin IV (Deluxe Edition)</td>\n",
       "      <td>Stairway to Heaven - Remaster</td>\n",
       "      <td>5CQ30WqJwcep0pYcV4AMNc</td>\n",
       "      <td>1971-11-08</td>\n",
       "      <td>False</td>\n",
       "      <td>[rock]</td>\n",
       "      <td>0.338</td>\n",
       "      <td>0.340</td>\n",
       "      <td>9</td>\n",
       "      <td>-12.049</td>\n",
       "      <td>0</td>\n",
       "      <td>0.0339</td>\n",
       "      <td>0.580000</td>\n",
       "      <td>0.00320</td>\n",
       "      <td>0.1160</td>\n",
       "      <td>0.197</td>\n",
       "      <td>82.433</td>\n",
       "      <td>482830</td>\n",
       "      <td>4</td>\n",
       "    </tr>\n",
       "    <tr>\n",
       "      <th>1</th>\n",
       "      <td>Led Zeppelin</td>\n",
       "      <td>Led Zeppelin III (Remaster)</td>\n",
       "      <td>Immigrant Song - Remaster</td>\n",
       "      <td>78lgmZwycJ3nzsdgmPPGNx</td>\n",
       "      <td>1970</td>\n",
       "      <td>False</td>\n",
       "      <td>[rock]</td>\n",
       "      <td>0.564</td>\n",
       "      <td>0.932</td>\n",
       "      <td>11</td>\n",
       "      <td>-10.068</td>\n",
       "      <td>1</td>\n",
       "      <td>0.0554</td>\n",
       "      <td>0.013000</td>\n",
       "      <td>0.16900</td>\n",
       "      <td>0.3490</td>\n",
       "      <td>0.619</td>\n",
       "      <td>112.937</td>\n",
       "      <td>146250</td>\n",
       "      <td>4</td>\n",
       "    </tr>\n",
       "    <tr>\n",
       "      <th>2</th>\n",
       "      <td>Led Zeppelin</td>\n",
       "      <td>Led Zeppelin II (1994 Remaster)</td>\n",
       "      <td>Whole Lotta Love - 1990 Remaster</td>\n",
       "      <td>0hCB0YR03f6AmQaHbwWDe8</td>\n",
       "      <td>1969-10-22</td>\n",
       "      <td>False</td>\n",
       "      <td>[rock]</td>\n",
       "      <td>0.412</td>\n",
       "      <td>0.902</td>\n",
       "      <td>9</td>\n",
       "      <td>-11.600</td>\n",
       "      <td>1</td>\n",
       "      <td>0.4050</td>\n",
       "      <td>0.048400</td>\n",
       "      <td>0.13100</td>\n",
       "      <td>0.4050</td>\n",
       "      <td>0.422</td>\n",
       "      <td>89.740</td>\n",
       "      <td>333893</td>\n",
       "      <td>4</td>\n",
       "    </tr>\n",
       "    <tr>\n",
       "      <th>3</th>\n",
       "      <td>Led Zeppelin</td>\n",
       "      <td>Led Zeppelin IV (Deluxe Edition)</td>\n",
       "      <td>Black Dog - Remaster</td>\n",
       "      <td>3qT4bUD1MaWpGrTwcvguhb</td>\n",
       "      <td>1971-11-08</td>\n",
       "      <td>False</td>\n",
       "      <td>[rock]</td>\n",
       "      <td>0.437</td>\n",
       "      <td>0.864</td>\n",
       "      <td>4</td>\n",
       "      <td>-7.842</td>\n",
       "      <td>0</td>\n",
       "      <td>0.0904</td>\n",
       "      <td>0.396000</td>\n",
       "      <td>0.03140</td>\n",
       "      <td>0.2420</td>\n",
       "      <td>0.749</td>\n",
       "      <td>81.394</td>\n",
       "      <td>295387</td>\n",
       "      <td>4</td>\n",
       "    </tr>\n",
       "    <tr>\n",
       "      <th>4</th>\n",
       "      <td>Led Zeppelin</td>\n",
       "      <td>Led Zeppelin IV (Deluxe Edition)</td>\n",
       "      <td>Rock and Roll - Remaster</td>\n",
       "      <td>4PRGxHpCpF2yoOHYKQIEwD</td>\n",
       "      <td>1971-11-08</td>\n",
       "      <td>False</td>\n",
       "      <td>[rock]</td>\n",
       "      <td>0.317</td>\n",
       "      <td>0.887</td>\n",
       "      <td>9</td>\n",
       "      <td>-7.292</td>\n",
       "      <td>1</td>\n",
       "      <td>0.0375</td>\n",
       "      <td>0.000582</td>\n",
       "      <td>0.00258</td>\n",
       "      <td>0.0891</td>\n",
       "      <td>0.871</td>\n",
       "      <td>169.613</td>\n",
       "      <td>220561</td>\n",
       "      <td>4</td>\n",
       "    </tr>\n",
       "  </tbody>\n",
       "</table>\n",
       "</div>"
      ],
      "text/plain": [
       "         artist                        album_name  \\\n",
       "0  Led Zeppelin  Led Zeppelin IV (Deluxe Edition)   \n",
       "1  Led Zeppelin       Led Zeppelin III (Remaster)   \n",
       "2  Led Zeppelin   Led Zeppelin II (1994 Remaster)   \n",
       "3  Led Zeppelin  Led Zeppelin IV (Deluxe Edition)   \n",
       "4  Led Zeppelin  Led Zeppelin IV (Deluxe Edition)   \n",
       "\n",
       "                         track_name                track_id released_date  \\\n",
       "0     Stairway to Heaven - Remaster  5CQ30WqJwcep0pYcV4AMNc    1971-11-08   \n",
       "1         Immigrant Song - Remaster  78lgmZwycJ3nzsdgmPPGNx          1970   \n",
       "2  Whole Lotta Love - 1990 Remaster  0hCB0YR03f6AmQaHbwWDe8    1969-10-22   \n",
       "3              Black Dog - Remaster  3qT4bUD1MaWpGrTwcvguhb    1971-11-08   \n",
       "4          Rock and Roll - Remaster  4PRGxHpCpF2yoOHYKQIEwD    1971-11-08   \n",
       "\n",
       "  explicit  genres  danceability  energy key  loudness mode  speechiness  \\\n",
       "0    False  [rock]         0.338   0.340   9   -12.049    0       0.0339   \n",
       "1    False  [rock]         0.564   0.932  11   -10.068    1       0.0554   \n",
       "2    False  [rock]         0.412   0.902   9   -11.600    1       0.4050   \n",
       "3    False  [rock]         0.437   0.864   4    -7.842    0       0.0904   \n",
       "4    False  [rock]         0.317   0.887   9    -7.292    1       0.0375   \n",
       "\n",
       "   acousticness  instrumentalness  liveness  valence    tempo duration_ms  \\\n",
       "0      0.580000           0.00320    0.1160    0.197   82.433      482830   \n",
       "1      0.013000           0.16900    0.3490    0.619  112.937      146250   \n",
       "2      0.048400           0.13100    0.4050    0.422   89.740      333893   \n",
       "3      0.396000           0.03140    0.2420    0.749   81.394      295387   \n",
       "4      0.000582           0.00258    0.0891    0.871  169.613      220561   \n",
       "\n",
       "  time_signature  \n",
       "0              4  \n",
       "1              4  \n",
       "2              4  \n",
       "3              4  \n",
       "4              4  "
      ]
     },
     "execution_count": 29,
     "metadata": {},
     "output_type": "execute_result"
    }
   ],
   "source": [
    "metadata_toptracks.head()"
   ]
  },
  {
   "cell_type": "code",
   "execution_count": 21,
   "metadata": {},
   "outputs": [],
   "source": [
    "metadata_toptracks.to_csv(os.path.join(full_path,\"metadata_toptracks.csv\"))"
   ]
  }
 ],
 "metadata": {
  "kernelspec": {
   "display_name": "tf",
   "language": "python",
   "name": "python3"
  },
  "language_info": {
   "codemirror_mode": {
    "name": "ipython",
    "version": 3
   },
   "file_extension": ".py",
   "mimetype": "text/x-python",
   "name": "python",
   "nbconvert_exporter": "python",
   "pygments_lexer": "ipython3",
   "version": "3.10.6"
  },
  "orig_nbformat": 4,
  "vscode": {
   "interpreter": {
    "hash": "a9063ff2262220159f9d0422687c0477cf7937962d72300ed35684f58e95be43"
   }
  }
 },
 "nbformat": 4,
 "nbformat_minor": 2
}
