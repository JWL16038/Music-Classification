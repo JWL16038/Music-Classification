{
 "cells": [
  {
   "cell_type": "code",
   "execution_count": 1,
   "metadata": {},
   "outputs": [],
   "source": [
    "import spotipy\n",
    "import spotipy.util as util\n",
    "import numpy as np\n",
    "import pandas as pd"
   ]
  },
  {
   "cell_type": "code",
   "execution_count": 12,
   "metadata": {},
   "outputs": [],
   "source": [
    "absolute_path = \"f:\\\\AI Projects\\\\Music Classification\"\n",
    "relative_path = \"Data\\\\Spotify\"\n",
    "full_path = os.path.join(absolute_path, relative_path)"
   ]
  },
  {
   "cell_type": "code",
   "execution_count": 2,
   "metadata": {},
   "outputs": [],
   "source": [
    "CLIENT_ID = \"372d9bfe8dce48a1aac1806d4329629d\"\n",
    "CLIENT_SECRET = \"1a6e5a340428469dba631f9ffbd4528f\""
   ]
  },
  {
   "cell_type": "code",
   "execution_count": 3,
   "metadata": {},
   "outputs": [],
   "source": [
    "auth_manager = spotipy.oauth2.SpotifyClientCredentials(client_id=CLIENT_ID,client_secret=CLIENT_SECRET)\n",
    "sp = spotipy.Spotify(auth_manager=auth_manager)"
   ]
  },
  {
   "cell_type": "code",
   "execution_count": 4,
   "metadata": {},
   "outputs": [],
   "source": [
    "playlist = sp.playlist_tracks(\"4rnleEAOdmFAbRcNCgZMpY\")"
   ]
  },
  {
   "cell_type": "code",
   "execution_count": 13,
   "metadata": {},
   "outputs": [],
   "source": [
    "import warnings\n",
    "warnings.filterwarnings('ignore')\n",
    "\n",
    "columns = [\"artist\",\"album\",\"track_name\",\"track_id\",\"released_date\",\"added_date\",\"genres\",\"danceability\",\"energy\",\"key\",\"loudness\",\"mode\",\"speechiness\",\"acousticness\",\"instrumentalness\",\"liveness\",\"valence\",\"tempo\",\"duration_ms\",\"time_signature\"]\n",
    "\n",
    "metadata_playlists = pd.DataFrame(columns=columns)\n",
    "\n",
    "\n",
    "for track in playlist[\"items\"]:\n",
    "    artist = track[\"track\"][\"album\"][\"artists\"][0][\"name\"]\n",
    "    artist_uri = track[\"track\"][\"album\"][\"artists\"][0][\"uri\"]\n",
    "    album = track[\"track\"][\"album\"][\"name\"]\n",
    "    track_name = track[\"track\"][\"name\"]\n",
    "    track_id = track[\"track\"][\"id\"]\n",
    "    released_date = track[\"track\"][\"album\"][\"release_date\"]\n",
    "    added_date = track[\"added_at\"]\n",
    "    genres = sp.artist(artist_uri)[\"genres\"]\n",
    "    new_row = {\"artist\" : artist, \"album\" : album, \"track_name\" : track_name, \"track_id\" : track_id,\"released_date\" : released_date, \"added_date\" : added_date,\"genres\" : genres}\n",
    "    audio_features = sp.audio_features(track_id)[0]\n",
    "    for feature in columns[7:]:\n",
    "        new_row[feature] = audio_features[feature]\n",
    "    metadata_playlists = metadata_playlists.append(new_row, ignore_index=True)\n",
    "\n",
    "\n",
    "metadata_playlists.head()\n",
    "metadata_playlists.to_csv(os.path.join(full_path,\"metadata_1.csv\"))"
   ]
  }
 ],
 "metadata": {
  "kernelspec": {
   "display_name": "tf",
   "language": "python",
   "name": "python3"
  },
  "language_info": {
   "codemirror_mode": {
    "name": "ipython",
    "version": 3
   },
   "file_extension": ".py",
   "mimetype": "text/x-python",
   "name": "python",
   "nbconvert_exporter": "python",
   "pygments_lexer": "ipython3",
   "version": "3.10.6"
  },
  "orig_nbformat": 4,
  "vscode": {
   "interpreter": {
    "hash": "a9063ff2262220159f9d0422687c0477cf7937962d72300ed35684f58e95be43"
   }
  }
 },
 "nbformat": 4,
 "nbformat_minor": 2
}
