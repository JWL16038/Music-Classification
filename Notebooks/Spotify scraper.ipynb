{
 "cells": [
  {
   "cell_type": "code",
   "execution_count": 5,
   "metadata": {},
   "outputs": [],
   "source": [
    "import spotipy\n",
    "import spotipy.util as util\n",
    "import numpy as np\n",
    "import pandas as pd"
   ]
  },
  {
   "cell_type": "code",
   "execution_count": 6,
   "metadata": {},
   "outputs": [],
   "source": [
    "absolute_path = \"f:\\\\AI Projects\\\\Music Classification\"\n",
    "relative_path = \"Data\\\\Spotify\"\n",
    "full_path = os.path.join(absolute_path, relative_path)"
   ]
  },
  {
   "cell_type": "code",
   "execution_count": 7,
   "metadata": {},
   "outputs": [],
   "source": [
    "CLIENT_ID = \"372d9bfe8dce48a1aac1806d4329629d\"\n",
    "CLIENT_SECRET = \"1a6e5a340428469dba631f9ffbd4528f\""
   ]
  },
  {
   "cell_type": "code",
   "execution_count": 8,
   "metadata": {},
   "outputs": [],
   "source": [
    "auth_manager = spotipy.oauth2.SpotifyClientCredentials(client_id=CLIENT_ID,client_secret=CLIENT_SECRET)\n",
    "sp = spotipy.Spotify(auth_manager=auth_manager)"
   ]
  },
  {
   "cell_type": "code",
   "execution_count": 9,
   "metadata": {},
   "outputs": [],
   "source": [
    "playlists = [\"4rnleEAOdmFAbRcNCgZMpY\",\"37i9dQZF1DWWEJlAGA9gs0\",\"37i9dQZF1DXbITWG1ZJKYt\",\"37i9dQZF1DX1spT6G94GFC\",\"5oM9tyhspzK18TrPrlIZro\",\"37i9dQZF1DX55yuR78Invt\"]"
   ]
  },
  {
   "cell_type": "code",
   "execution_count": 10,
   "metadata": {},
   "outputs": [],
   "source": [
    "def get_playlist_tracks(playlist_id):\n",
    "    playlist_data = sp.playlist_tracks(playlist_id)\n",
    "    tracks = playlist_data['items']\n",
    "    while playlist_data['next']:\n",
    "        playlist_data = sp.next(playlist_data)\n",
    "        tracks.extend(playlist_data['items'])\n",
    "        \n",
    "    return tracks"
   ]
  },
  {
   "cell_type": "code",
   "execution_count": 11,
   "metadata": {},
   "outputs": [
    {
     "name": "stdout",
     "output_type": "stream",
     "text": [
      "Every Breath You Take\n",
      "Sweet Child O' Mine\n",
      "Too Many Pieces\n",
      "Your Love\n",
      "Africa\n",
      "Gucci\n",
      "Livin' On A Prayer\n",
      "The Final Countdown\n",
      "Eye of the Tiger\n",
      "Nothing's Gonna Stop Us Now\n",
      "Back In Black\n",
      "I Want to Know What Love Is - 1999 Remaster\n",
      "Don't Stop Believin'\n",
      "Patience\n",
      "Another Day in Paradise - 2016 Remaster\n",
      "Paradise City\n",
      "Heaven\n",
      "She's Like the Wind (feat. Wendy Fraser)\n",
      "Welcome To The Jungle\n",
      "Walk Of Life\n",
      "I'm Still Standing\n",
      "Don't You (Forget About Me) - Remastered 2001\n",
      "I Still Haven't Found What I'm Looking For\n",
      "Alone\n",
      "Listen To Your Heart\n",
      "You Shook Me All Night Long\n",
      "Maneater\n",
      "Burning Heart - From \"Rocky IV\" Soundtrack\n",
      "Don't Dream It's Over\n",
      "Never Tear Us Apart\n",
      "Jump - 2015 Remaster\n",
      "You Give Love A Bad Name\n",
      "Carry on Wayward Son\n",
      "Everytime You Go Away\n",
      "Bette Davis Eyes\n",
      "I Love Rock 'n Roll\n",
      "Faithfully\n",
      "Purple Rain\n",
      "With Or Without You - Remastered\n",
      "Shout\n",
      "Tougher Than the Rest\n",
      "Beds Are Burning - Remastered\n",
      "Poison\n",
      "How Am I Supposed to Live Without You\n",
      "I Hate Myself for Loving You\n",
      "Who Made Who\n",
      "Can't Fight This Feeling\n",
      "In The Air Tonight - 2015 Remastered\n",
      "Rebel Yell\n",
      "Broken Wings\n",
      "I'll Be There For You\n",
      "Eternal Flame - Acoustic Version\n",
      "Hells Bells\n",
      "We're Not Gonna Take It\n",
      "Carrie\n",
      "Is This Love - 2017 Remaster\n",
      "Everywhere - 2017 Remaster\n",
      "Fast Car\n",
      "Gimme All Your Lovin'\n",
      "All Out of Love\n",
      "Never Say Goodbye\n",
      "Past Lives\n",
      "Hysteria - Remastered 2017\n",
      "Don't Know What You Got (Till It's Gone)\n",
      "Shoot to Thrill\n",
      "Still Loving You\n",
      "Under Pressure\n",
      "Love Bites - Remastered 2017\n",
      "Perfect Strangers\n",
      "Runaway\n",
      "Hard to Say I'm Sorry - 2007 Remaster\n",
      "All the Love in the World\n",
      "Brothers In Arms\n",
      "Personal Jesus\n",
      "Should I Stay or Should I Go - Remastered\n",
      "Rosanna\n",
      "Run To You\n",
      "I'll Be Over You\n",
      "The Flame\n",
      "She Sells Sanctuary - Remastered\n",
      "Toy Soldiers\n",
      "On My Own\n",
      "I Want It All - Single Version\n",
      "Love Song\n",
      "I Live My Life for You\n",
      "In The Army Now\n",
      "Keep on Loving You\n",
      "We Built This City\n",
      "White Wedding - Pt. 1\n",
      "Here I Go Again - 1987 Version; 2017 Remaster\n",
      "Tom Sawyer\n",
      "What About Love?\n",
      "Dancing With Myself\n",
      "Danger Zone - From \"Top Gun\" Original Soundtrack\n",
      "A Kind Of Magic - Remastered 2011\n",
      "Born in the U.S.A.\n",
      "The Number of the Beast - 2015 Remaster\n",
      "Start Me Up - Remastered 2009\n",
      "Run to the Hills - 1998 Remastered Version\n",
      "Angel\n"
     ]
    }
   ],
   "source": [
    "import warnings\n",
    "warnings.filterwarnings('ignore')\n",
    "\n",
    "columns = [\"artist\",\"album\",\"track_name\",\"track_id\",\"released_date\",\"added_date\",\"genres\",\"danceability\",\"energy\",\"key\",\"loudness\",\"mode\",\"speechiness\",\"acousticness\",\"instrumentalness\",\"liveness\",\"valence\",\"tempo\",\"duration_ms\",\"time_signature\"]\n",
    "\n",
    "metadata_playlists = pd.DataFrame(columns=columns)\n",
    "\n",
    "for playlist in playlists:\n",
    "    playlist_data = get_playlist_tracks(playlist)\n",
    "    for track in playlist_data:\n",
    "        artist = track[\"track\"][\"album\"][\"artists\"][0][\"name\"]\n",
    "        artist_uri = track[\"track\"][\"album\"][\"artists\"][0][\"uri\"]\n",
    "        album = track[\"track\"][\"album\"][\"name\"]\n",
    "        track_name = track[\"track\"][\"name\"]\n",
    "        print(track_name)\n",
    "        if not (\n",
    "            metadata_playlists['artist'].str.contains(artist, regex=False).any() & \n",
    "            metadata_playlists['album'].str.contains(album, regex=False).any() & \n",
    "            metadata_playlists['track_name'].str.contains(track_name, regex=False).any()):\n",
    "            track_id = track[\"track\"][\"id\"]\n",
    "            released_date = track[\"track\"][\"album\"][\"release_date\"]\n",
    "            added_date = track[\"added_at\"]\n",
    "            genres = sp.artist(artist_uri)[\"genres\"]\n",
    "            new_row = {\"artist\" : artist, \"album\" : album, \"track_name\" : track_name, \"track_id\" : track_id,\"released_date\" : released_date, \"added_date\" : added_date,\"genres\" : genres}\n",
    "            audio_features = sp.audio_features(track_id)[0]\n",
    "            for feature in columns[7:]:\n",
    "                new_row[feature] = audio_features[feature]\n",
    "            metadata_playlists = metadata_playlists.append(new_row, ignore_index=True)\n",
    "        else:\n",
    "            print(f\"Skipping: {track_name} due to a duplicate\")\n"
   ]
  },
  {
   "cell_type": "code",
   "execution_count": null,
   "metadata": {},
   "outputs": [],
   "source": [
    "metadata_playlists.head()"
   ]
  },
  {
   "cell_type": "code",
   "execution_count": null,
   "metadata": {},
   "outputs": [],
   "source": [
    "metadata_playlists.to_csv(os.path.join(full_path,\"metadata_1.csv\"))"
   ]
  }
 ],
 "metadata": {
  "kernelspec": {
   "display_name": "tf",
   "language": "python",
   "name": "python3"
  },
  "language_info": {
   "codemirror_mode": {
    "name": "ipython",
    "version": 3
   },
   "file_extension": ".py",
   "mimetype": "text/x-python",
   "name": "python",
   "nbconvert_exporter": "python",
   "pygments_lexer": "ipython3",
   "version": "3.10.6"
  },
  "orig_nbformat": 4,
  "vscode": {
   "interpreter": {
    "hash": "a9063ff2262220159f9d0422687c0477cf7937962d72300ed35684f58e95be43"
   }
  }
 },
 "nbformat": 4,
 "nbformat_minor": 2
}
