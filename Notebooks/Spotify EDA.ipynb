{
 "cells": [
  {
   "cell_type": "code",
   "execution_count": 14,
   "metadata": {},
   "outputs": [],
   "source": [
    "import numpy as np\n",
    "import pandas as pd\n",
    "import matplotlib.pyplot as plt\n",
    "import os"
   ]
  },
  {
   "cell_type": "code",
   "execution_count": 1,
   "metadata": {},
   "outputs": [],
   "source": [
    "absolute_path = \"f:\\\\AI Projects\\\\Music Classification\"\n",
    "relative_path = \"Data\\\\Spotify\"\n",
    "full_path = os.path.join(absolute_path, relative_path)"
   ]
  },
  {
   "cell_type": "code",
   "execution_count": 8,
   "metadata": {},
   "outputs": [],
   "source": [
    "spotify_metadata = pd.read_csv(os.path.join(full_path,\"metadata_toptracks.csv\"))"
   ]
  },
  {
   "cell_type": "code",
   "execution_count": 9,
   "metadata": {},
   "outputs": [
    {
     "data": {
      "text/html": [
       "<div>\n",
       "<style scoped>\n",
       "    .dataframe tbody tr th:only-of-type {\n",
       "        vertical-align: middle;\n",
       "    }\n",
       "\n",
       "    .dataframe tbody tr th {\n",
       "        vertical-align: top;\n",
       "    }\n",
       "\n",
       "    .dataframe thead th {\n",
       "        text-align: right;\n",
       "    }\n",
       "</style>\n",
       "<table border=\"1\" class=\"dataframe\">\n",
       "  <thead>\n",
       "    <tr style=\"text-align: right;\">\n",
       "      <th></th>\n",
       "      <th>Unnamed: 0</th>\n",
       "      <th>artist</th>\n",
       "      <th>album_name</th>\n",
       "      <th>track_name</th>\n",
       "      <th>track_id</th>\n",
       "      <th>released_date</th>\n",
       "      <th>explicit</th>\n",
       "      <th>genres</th>\n",
       "      <th>danceability</th>\n",
       "      <th>energy</th>\n",
       "      <th>...</th>\n",
       "      <th>loudness</th>\n",
       "      <th>mode</th>\n",
       "      <th>speechiness</th>\n",
       "      <th>acousticness</th>\n",
       "      <th>instrumentalness</th>\n",
       "      <th>liveness</th>\n",
       "      <th>valence</th>\n",
       "      <th>tempo</th>\n",
       "      <th>duration_ms</th>\n",
       "      <th>time_signature</th>\n",
       "    </tr>\n",
       "  </thead>\n",
       "  <tbody>\n",
       "    <tr>\n",
       "      <th>0</th>\n",
       "      <td>0</td>\n",
       "      <td>Led Zeppelin</td>\n",
       "      <td>Led Zeppelin IV (Deluxe Edition)</td>\n",
       "      <td>Stairway to Heaven - Remaster</td>\n",
       "      <td>5CQ30WqJwcep0pYcV4AMNc</td>\n",
       "      <td>1971-11-08</td>\n",
       "      <td>False</td>\n",
       "      <td>['rock']</td>\n",
       "      <td>0.338</td>\n",
       "      <td>0.340</td>\n",
       "      <td>...</td>\n",
       "      <td>-12.049</td>\n",
       "      <td>0</td>\n",
       "      <td>0.0339</td>\n",
       "      <td>0.580000</td>\n",
       "      <td>0.00320</td>\n",
       "      <td>0.1160</td>\n",
       "      <td>0.197</td>\n",
       "      <td>82.433</td>\n",
       "      <td>482830</td>\n",
       "      <td>4</td>\n",
       "    </tr>\n",
       "    <tr>\n",
       "      <th>1</th>\n",
       "      <td>1</td>\n",
       "      <td>Led Zeppelin</td>\n",
       "      <td>Led Zeppelin III (Remaster)</td>\n",
       "      <td>Immigrant Song - Remaster</td>\n",
       "      <td>78lgmZwycJ3nzsdgmPPGNx</td>\n",
       "      <td>1970</td>\n",
       "      <td>False</td>\n",
       "      <td>['rock']</td>\n",
       "      <td>0.564</td>\n",
       "      <td>0.932</td>\n",
       "      <td>...</td>\n",
       "      <td>-10.068</td>\n",
       "      <td>1</td>\n",
       "      <td>0.0554</td>\n",
       "      <td>0.013000</td>\n",
       "      <td>0.16900</td>\n",
       "      <td>0.3490</td>\n",
       "      <td>0.619</td>\n",
       "      <td>112.937</td>\n",
       "      <td>146250</td>\n",
       "      <td>4</td>\n",
       "    </tr>\n",
       "    <tr>\n",
       "      <th>2</th>\n",
       "      <td>2</td>\n",
       "      <td>Led Zeppelin</td>\n",
       "      <td>Led Zeppelin II (1994 Remaster)</td>\n",
       "      <td>Whole Lotta Love - 1990 Remaster</td>\n",
       "      <td>0hCB0YR03f6AmQaHbwWDe8</td>\n",
       "      <td>1969-10-22</td>\n",
       "      <td>False</td>\n",
       "      <td>['rock']</td>\n",
       "      <td>0.412</td>\n",
       "      <td>0.902</td>\n",
       "      <td>...</td>\n",
       "      <td>-11.600</td>\n",
       "      <td>1</td>\n",
       "      <td>0.4050</td>\n",
       "      <td>0.048400</td>\n",
       "      <td>0.13100</td>\n",
       "      <td>0.4050</td>\n",
       "      <td>0.422</td>\n",
       "      <td>89.740</td>\n",
       "      <td>333893</td>\n",
       "      <td>4</td>\n",
       "    </tr>\n",
       "    <tr>\n",
       "      <th>3</th>\n",
       "      <td>3</td>\n",
       "      <td>Led Zeppelin</td>\n",
       "      <td>Led Zeppelin IV (Deluxe Edition)</td>\n",
       "      <td>Black Dog - Remaster</td>\n",
       "      <td>3qT4bUD1MaWpGrTwcvguhb</td>\n",
       "      <td>1971-11-08</td>\n",
       "      <td>False</td>\n",
       "      <td>['rock']</td>\n",
       "      <td>0.437</td>\n",
       "      <td>0.864</td>\n",
       "      <td>...</td>\n",
       "      <td>-7.842</td>\n",
       "      <td>0</td>\n",
       "      <td>0.0904</td>\n",
       "      <td>0.396000</td>\n",
       "      <td>0.03140</td>\n",
       "      <td>0.2420</td>\n",
       "      <td>0.749</td>\n",
       "      <td>81.394</td>\n",
       "      <td>295387</td>\n",
       "      <td>4</td>\n",
       "    </tr>\n",
       "    <tr>\n",
       "      <th>4</th>\n",
       "      <td>4</td>\n",
       "      <td>Led Zeppelin</td>\n",
       "      <td>Led Zeppelin IV (Deluxe Edition)</td>\n",
       "      <td>Rock and Roll - Remaster</td>\n",
       "      <td>4PRGxHpCpF2yoOHYKQIEwD</td>\n",
       "      <td>1971-11-08</td>\n",
       "      <td>False</td>\n",
       "      <td>['rock']</td>\n",
       "      <td>0.317</td>\n",
       "      <td>0.887</td>\n",
       "      <td>...</td>\n",
       "      <td>-7.292</td>\n",
       "      <td>1</td>\n",
       "      <td>0.0375</td>\n",
       "      <td>0.000582</td>\n",
       "      <td>0.00258</td>\n",
       "      <td>0.0891</td>\n",
       "      <td>0.871</td>\n",
       "      <td>169.613</td>\n",
       "      <td>220561</td>\n",
       "      <td>4</td>\n",
       "    </tr>\n",
       "  </tbody>\n",
       "</table>\n",
       "<p>5 rows × 21 columns</p>\n",
       "</div>"
      ],
      "text/plain": [
       "   Unnamed: 0        artist                        album_name  \\\n",
       "0           0  Led Zeppelin  Led Zeppelin IV (Deluxe Edition)   \n",
       "1           1  Led Zeppelin       Led Zeppelin III (Remaster)   \n",
       "2           2  Led Zeppelin   Led Zeppelin II (1994 Remaster)   \n",
       "3           3  Led Zeppelin  Led Zeppelin IV (Deluxe Edition)   \n",
       "4           4  Led Zeppelin  Led Zeppelin IV (Deluxe Edition)   \n",
       "\n",
       "                         track_name                track_id released_date  \\\n",
       "0     Stairway to Heaven - Remaster  5CQ30WqJwcep0pYcV4AMNc    1971-11-08   \n",
       "1         Immigrant Song - Remaster  78lgmZwycJ3nzsdgmPPGNx          1970   \n",
       "2  Whole Lotta Love - 1990 Remaster  0hCB0YR03f6AmQaHbwWDe8    1969-10-22   \n",
       "3              Black Dog - Remaster  3qT4bUD1MaWpGrTwcvguhb    1971-11-08   \n",
       "4          Rock and Roll - Remaster  4PRGxHpCpF2yoOHYKQIEwD    1971-11-08   \n",
       "\n",
       "   explicit    genres  danceability  energy  ...  loudness  mode  speechiness  \\\n",
       "0     False  ['rock']         0.338   0.340  ...   -12.049     0       0.0339   \n",
       "1     False  ['rock']         0.564   0.932  ...   -10.068     1       0.0554   \n",
       "2     False  ['rock']         0.412   0.902  ...   -11.600     1       0.4050   \n",
       "3     False  ['rock']         0.437   0.864  ...    -7.842     0       0.0904   \n",
       "4     False  ['rock']         0.317   0.887  ...    -7.292     1       0.0375   \n",
       "\n",
       "   acousticness  instrumentalness  liveness  valence    tempo  duration_ms  \\\n",
       "0      0.580000           0.00320    0.1160    0.197   82.433       482830   \n",
       "1      0.013000           0.16900    0.3490    0.619  112.937       146250   \n",
       "2      0.048400           0.13100    0.4050    0.422   89.740       333893   \n",
       "3      0.396000           0.03140    0.2420    0.749   81.394       295387   \n",
       "4      0.000582           0.00258    0.0891    0.871  169.613       220561   \n",
       "\n",
       "   time_signature  \n",
       "0               4  \n",
       "1               4  \n",
       "2               4  \n",
       "3               4  \n",
       "4               4  \n",
       "\n",
       "[5 rows x 21 columns]"
      ]
     },
     "execution_count": 9,
     "metadata": {},
     "output_type": "execute_result"
    }
   ],
   "source": [
    "spotify_metadata.head()"
   ]
  },
  {
   "cell_type": "code",
   "execution_count": 10,
   "metadata": {},
   "outputs": [
    {
     "data": {
      "text/plain": [
       "(588, 21)"
      ]
     },
     "execution_count": 10,
     "metadata": {},
     "output_type": "execute_result"
    }
   ],
   "source": [
    "spotify_metadata.shape"
   ]
  },
  {
   "cell_type": "code",
   "execution_count": null,
   "metadata": {},
   "outputs": [],
   "source": [
    "plt.bar(spotify_metadata.genres,)\n",
    "plt.show()"
   ]
  },
  {
   "cell_type": "code",
   "execution_count": 20,
   "metadata": {},
   "outputs": [
    {
     "data": {
      "image/png": "[encoded data removed]",
      "text/plain": [
       "<Figure size 640x480 with 1 Axes>"
      ]
     },
     "metadata": {},
     "output_type": "display_data"
    }
   ],
   "source": [
    "plt.hist(spotify_metadata.danceability)\n",
    "plt.title(\"Danceability\")\n",
    "plt.xlabel(\"Value\")\n",
    "plt.ylabel(\"Number of songs\")\n",
    "plt.show() "
   ]
  },
  {
   "cell_type": "code",
   "execution_count": null,
   "metadata": {},
   "outputs": [],
   "source": [
    "\"\""
   ]
  }
 ],
 "metadata": {
  "kernelspec": {
   "display_name": "tf",
   "language": "python",
   "name": "python3"
  },
  "language_info": {
   "codemirror_mode": {
    "name": "ipython",
    "version": 3
   },
   "file_extension": ".py",
   "mimetype": "text/x-python",
   "name": "python",
   "nbconvert_exporter": "python",
   "pygments_lexer": "ipython3",
   "version": "3.10.6"
  },
  "orig_nbformat": 4,
  "vscode": {
   "interpreter": {
    "hash": "a9063ff2262220159f9d0422687c0477cf7937962d72300ed35684f58e95be43"
   }
  }
 },
 "nbformat": 4,
 "nbformat_minor": 2
}
