{
 "cells": [
  {
   "cell_type": "code",
   "execution_count": 2,
   "metadata": {},
   "outputs": [],
   "source": [
    "import spotipy\n",
    "import spotipy.util as util\n",
    "import numpy as np\n",
    "import pandas as pd\n",
    "import os\n",
    "import csv\n",
    "import warnings\n",
    "import re \n",
    "\n",
    "from sklearn.utils import shuffle\n",
    "from itertools import chain\n",
    "from collections import defaultdict"
   ]
  },
  {
   "cell_type": "code",
   "execution_count": 3,
   "metadata": {},
   "outputs": [],
   "source": [
    "absolute_path = \"f:\\\\AI Projects\\\\Music Classification\"\n",
    "relative_path = \"data\\\\processed\\\\Spotify\"\n",
    "full_path = os.path.join(absolute_path, relative_path)"
   ]
  },
  {
   "cell_type": "code",
   "execution_count": 3,
   "metadata": {},
   "outputs": [],
   "source": [
    "CLIENT_ID = \"372d9bfe8dce48a1aac1806d4329629d\"\n",
    "CLIENT_SECRET = \"1a6e5a340428469dba631f9ffbd4528f\""
   ]
  },
  {
   "cell_type": "code",
   "execution_count": 4,
   "metadata": {},
   "outputs": [],
   "source": [
    "auth_manager = spotipy.oauth2.SpotifyClientCredentials(client_id=CLIENT_ID,client_secret=CLIENT_SECRET)\n",
    "sp = spotipy.Spotify(auth_manager=auth_manager)"
   ]
  },
  {
   "attachments": {},
   "cell_type": "markdown",
   "metadata": {},
   "source": [
    "Get all required data"
   ]
  },
  {
   "cell_type": "code",
   "execution_count": 5,
   "metadata": {},
   "outputs": [],
   "source": [
    "top3tracks = pd.read_csv(os.path.join(full_path,\"top3tracks.csv\")) \n",
    "largest_playlist = pd.read_csv(os.path.join(full_path,\"largest_playlist_ever.csv\"))\n",
    "#Drop the index column since we have a duplicate\n",
    "largest_playlist = largest_playlist.iloc[:,1:]\n",
    "largest_playlist_artists = pd.read_csv(os.path.join(full_path,\"largest_playlist_ever_artists.csv\")) \n",
    "\n",
    "#Drop genres column to map the genres to new broad genres\n",
    "largest_playlist = largest_playlist.drop('genres', axis=1)\n",
    "top3tracks = top3tracks.drop('genres', axis=1)"
   ]
  },
  {
   "attachments": {},
   "cell_type": "markdown",
   "metadata": {},
   "source": [
    "Extract artist information from the dataframe"
   ]
  },
  {
   "cell_type": "code",
   "execution_count": null,
   "metadata": {},
   "outputs": [],
   "source": [
    "#Ignore the frame.append method deprecated warning\n",
    "warnings.filterwarnings('ignore')\n",
    "\n",
    "columns = [\"name\",\"uri\",\"followers\",\"popularity\",\"genres\"]\n",
    "artists_df = pd.DataFrame(columns=columns)\n",
    "largest_playlist_artists = largest_playlist.loc[:,\"artist\"].unique().tolist()\n",
    "top3tracks_artists = top3tracks.loc[:,\"artist\"].unique().tolist()\n",
    "#Combine artists from both lists while preserving the order and dropping any duplicates.\n",
    "all_artists = largest_playlist_artists + [x for x in top3tracks_artists if x not in largest_playlist_artists]\n",
    "\n",
    "for art in all_artists:\n",
    "    print(art)\n",
    "    results = sp.search(q='artist: ' + art, type='artist')\n",
    "    name = results[\"artists\"][\"items\"][0][\"name\"]\n",
    "    uri = results[\"artists\"][\"items\"][0][\"uri\"]\n",
    "    if not (artists_df['name'].str.contains(name, regex=False).any() & \n",
    "    artists_df['uri'].str.contains(uri, regex=False).any()):\n",
    "        followers = results[\"artists\"][\"items\"][0][\"followers\"][\"total\"]\n",
    "        popularity = results[\"artists\"][\"items\"][0][\"popularity\"]\n",
    "        genres = results[\"artists\"][\"items\"][0][\"genres\"]\n",
    "        new_row = {\"name\" : name, \"uri\" : uri,\"followers\" : followers,\"popularity\" : popularity, \"genres\" : genres}\n",
    "        artists_df = artists_df.append(new_row, ignore_index=True)\n"
   ]
  },
  {
   "cell_type": "code",
   "execution_count": 20,
   "metadata": {},
   "outputs": [],
   "source": [
    "artists_df.to_csv(os.path.join(full_path,\"full_artists.csv\"),index=False)\n",
    "artists_df.to_excel(os.path.join(full_path,\"full_artists.xlsx\"),index=False)"
   ]
  },
  {
   "attachments": {},
   "cell_type": "markdown",
   "metadata": {},
   "source": [
    "Map each genre to a broad genre using pattern matching"
   ]
  },
  {
   "cell_type": "code",
   "execution_count": 6,
   "metadata": {},
   "outputs": [],
   "source": [
    "genre_map = {\n",
    "    r'.*gregorian.*|.*medieval.*|.*madrigal.*|.*renaissance.*': \"early\",\n",
    "    r'.*classical.*|.*romanticism,*|.*streichquartett.*|.*orchestral.*|.*romantic era.*|.*compositional.*': \"classical\",\n",
    "    r'.*country.*|.*bluegrass.*|.*sertanejo.*|.*americana.*': \"country\",\n",
    "    r'.*dance.*|.*edm.*|.*disco.*|.*house.*|.*techno.*|.*rave.*|.*dubstep.*|.*hardstyle.*|.*rawstyle.*': \"dance\",\n",
    "    r'.*electronic.*|.*wave.*|.*big beat.*|.*downtempo.*|.*nightcore.*|.*electro.*|.*bossbeat.*|.*ambeat.*|.*otacore.*': \"electronic\",\n",
    "    r'.*folk.*|.*indiecoustica.*|.*americana.*': \"folk\",\n",
    "    r'.*hip hop.*|.*hip-hop.*|.*lo-fi.*|.*chillhop.*': \"hip hop\",\n",
    "    r'.*rap.*': \"rap\",\n",
    "    r'.*jazz.*|.*stride.*|.*jazz.*|.*blues.*|.*adult standards.*': \"jazz\",\n",
    "    r'.*metal.*': \"metal\",\n",
    "    r'.*rock.*|.*indiecoustica.*|.*indie.*|.*americana.*|.*otacore.*': \"rock\",\n",
    "    r'.*r&b.*|.*beats.*': \"r&b\",\n",
    "    r'.*soul.*': \"soul\",\n",
    "    r'.*soundtrack.*': \"soundtrack\",\n",
    "    r'.*reggae.*': \"reggae\",\n",
    "    r'.*pop.*|.*adult standards.*|.*indie.*|.*otacore.*|.*a cappella.*': \"pop\",\n",
    "    r'.*world.*': \"world\",\n",
    "}"
   ]
  },
  {
   "cell_type": "code",
   "execution_count": 16,
   "metadata": {},
   "outputs": [],
   "source": [
    "artists_df = pd.read_csv(os.path.join(full_path,\"full_artists.csv\"))\n",
    "\n",
    "artists_df[\"broad_genres\"] = \"\"\n",
    "\n",
    "for i in range(0,len(artists_df)):\n",
    "    artist = artists_df.loc[i,\"name\"]\n",
    "    genre = artists_df.loc[i,\"genres\"]\n",
    "    broad_genres = []\n",
    "    for pattern, broad_genre in genre_map.items():\n",
    "        if re.match(pattern, genre, re.IGNORECASE):\n",
    "            broad_genres.append(broad_genre)\n",
    "    artists_df.at[i,\"broad_genres\"] = str(broad_genres)\n",
    "\n",
    "\n",
    "artists_df.to_csv(os.path.join(full_path,\"full_artists_mapped.csv\"),index=False)"
   ]
  },
  {
   "attachments": {},
   "cell_type": "markdown",
   "metadata": {},
   "source": [
    "Combine artists and playlist together"
   ]
  },
  {
   "cell_type": "code",
   "execution_count": 13,
   "metadata": {},
   "outputs": [],
   "source": [
    "artists_df = pd.read_csv(os.path.join(full_path,\"full_artists_mapped.csv\")) \n",
    "top3tracks = pd.read_csv(os.path.join(full_path,\"top3tracks.csv\")) \n",
    "top3tracks.rename(columns={'album_name': 'album'}, inplace=True)\n",
    "largest_playlist = pd.read_csv(os.path.join(full_path,\"largest_playlist_ever.csv\"))\n",
    "largest_playlist = largest_playlist.iloc[:,1:]\n",
    "\n",
    "#Join the playlist dataframes together\n",
    "full_df = pd.concat([largest_playlist, top3tracks])\n",
    "full_df = full_df.drop(columns=[\"genres\",\"added_date\",\"explicit\"])\n",
    "\n",
    "# #Merge artists and playlists dataframes\n",
    "full_df = pd.merge(left=artists_df,right=full_df,left_on=\"name\",right_on=\"artist\",how='right')\n",
    "\n",
    "#Drop rows containing nan or no broad genres\n",
    "full_df = full_df.replace(r'\\[\\]', float('NaN'), regex = True)\n",
    "full_df = full_df.dropna()\n",
    "full_df = full_df.reset_index(drop=True)\n",
    "\n",
    "full_df.to_csv(os.path.join(full_path,\"complete_dataframe_1.csv\"),index=False)\n",
    "full_df.to_excel(os.path.join(full_path,\"complete_dataframe_1.xlsx\"),index=False)"
   ]
  },
  {
   "cell_type": "code",
   "execution_count": 31,
   "metadata": {},
   "outputs": [
    {
     "data": {
      "text/plain": [
       "Counter({'rock': 2108,\n",
       "         'pop': 5794,\n",
       "         'dance': 2793,\n",
       "         'rap': 2083,\n",
       "         'hip hop': 1870,\n",
       "         'electronic': 1012,\n",
       "         'reggae': 95,\n",
       "         'soul': 302,\n",
       "         'r&b': 411,\n",
       "         'metal': 326,\n",
       "         'classical': 518,\n",
       "         'soundtrack': 48,\n",
       "         'country': 199,\n",
       "         'folk': 253,\n",
       "         'jazz': 821,\n",
       "         'early': 29,\n",
       "         'world': 3})"
      ]
     },
     "execution_count": 31,
     "metadata": {},
     "output_type": "execute_result"
    }
   ],
   "source": [
    "import ast\n",
    "from collections import Counter\n",
    "\n",
    "full_df = pd.read_csv(os.path.join(full_path,\"complete_dataframe_1.csv\"))\n",
    "broad_genres_col = full_df.loc[:,\"broad_genres\"].values.tolist()\n",
    "broad_genres_col = ast.literal_eval(str(broad_genres_col))\n",
    "\n",
    "broad_genres = [ast.literal_eval(s) for s in broad_genres_col]\n",
    "broad_genres = Counter([item for sublist in broad_genres for item in sublist])\n",
    "broad_genres\n"
   ]
  }
 ],
 "metadata": {
  "kernelspec": {
   "display_name": "tf",
   "language": "python",
   "name": "python3"
  },
  "language_info": {
   "codemirror_mode": {
    "name": "ipython",
    "version": 3
   },
   "file_extension": ".py",
   "mimetype": "text/x-python",
   "name": "python",
   "nbconvert_exporter": "python",
   "pygments_lexer": "ipython3",
   "version": "3.10.6"
  },
  "orig_nbformat": 4
 },
 "nbformat": 4,
 "nbformat_minor": 2
}
